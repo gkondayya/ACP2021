{
  "nbformat": 4,
  "nbformat_minor": 0,
  "metadata": {
    "colab": {
      "name": "rsi.ipynb",
      "provenance": [],
      "collapsed_sections": [],
      "authorship_tag": "ABX9TyNSA9RHUCLEUB3mJunm56CL",
      "include_colab_link": true
    },
    "kernelspec": {
      "name": "python3",
      "display_name": "Python 3"
    },
    "language_info": {
      "name": "python"
    }
  },
  "cells": [
    {
      "cell_type": "markdown",
      "metadata": {
        "id": "view-in-github",
        "colab_type": "text"
      },
      "source": [
        "<a href=\"https://colab.research.google.com/github/gkondayya/ACP2021/blob/main/rsi.ipynb\" target=\"_parent\"><img src=\"https://colab.research.google.com/assets/colab-badge.svg\" alt=\"Open In Colab\"/></a>"
      ]
    },
    {
      "cell_type": "code",
      "execution_count": null,
      "metadata": {
        "id": "oDeLJ4hFM7CH"
      },
      "outputs": [],
      "source": [
        "pip install yfinance"
      ]
    },
    {
      "cell_type": "code",
      "source": [
        "import pandas as pd\n",
        "import yfinance as yf\n",
        "import numpy as np\n"
      ],
      "metadata": {
        "id": "q6JEQlUZM-OH"
      },
      "execution_count": 11,
      "outputs": []
    },
    {
      "cell_type": "code",
      "source": [
        "stocks = [\"RELIANCE.NS\",\"IRCTC.NS\", \"HDFCBANK.NS\",\"INFY.NS\",\"AMBER.NS\", \"BAJFINANCE.NS\"]\n",
        "ohlcv_data = {}\n",
        "for ticker in stocks:\n",
        "  temp = yf.download(ticker,period='1mo', interval = '15m')\n",
        "  temp.dropna(how='any',inplace=True)\n",
        "  ohlcv_data[ticker]=temp"
      ],
      "metadata": {
        "colab": {
          "base_uri": "https://localhost:8080/"
        },
        "id": "n08r-eTTNF4Q",
        "outputId": "1dbd180e-2255-4933-ae26-e1f16002bb40"
      },
      "execution_count": 9,
      "outputs": [
        {
          "output_type": "stream",
          "name": "stdout",
          "text": [
            "[*********************100%***********************]  1 of 1 completed\n",
            "[*********************100%***********************]  1 of 1 completed\n",
            "[*********************100%***********************]  1 of 1 completed\n",
            "[*********************100%***********************]  1 of 1 completed\n",
            "[*********************100%***********************]  1 of 1 completed\n",
            "[*********************100%***********************]  1 of 1 completed\n"
          ]
        }
      ]
    },
    {
      "cell_type": "code",
      "source": [
        "def RSI(DF, n=14):\n",
        "    \"function to calculate RSI\"\n",
        "    df = DF.copy()\n",
        "    df[\"change\"] = df[\"Adj Close\"] - df[\"Adj Close\"].shift(1)\n",
        "    df[\"gain\"] = np.where(df[\"change\"]>=0, df[\"change\"], 0)\n",
        "    df[\"loss\"] = np.where(df[\"change\"]<0, -1*df[\"change\"], 0)\n",
        "    df[\"avgGain\"] = df[\"gain\"].ewm(alpha=1/n, min_periods=n).mean()\n",
        "    df[\"avgLoss\"] = df[\"loss\"].ewm(alpha=1/n, min_periods=n).mean()\n",
        "    df[\"rs\"] = df[\"avgGain\"]/df[\"avgLoss\"]\n",
        "    df[\"rsi\"] = 100 - (100/ (1 + df[\"rs\"]))\n",
        "    return df[\"rsi\"]\n",
        "\n",
        "\n",
        "for ticker in ohlcv_data:\n",
        "    ohlcv_data[ticker][\"RSI\"] = RSI(ohlcv_data[ticker])\n",
        "    "
      ],
      "metadata": {
        "id": "QM0NTZMmNjlC"
      },
      "execution_count": 12,
      "outputs": []
    },
    {
      "cell_type": "code",
      "source": [
        "ohlcv_data[\"RELIANCE.NS\"][\"RSI\"].plot() "
      ],
      "metadata": {
        "colab": {
          "base_uri": "https://localhost:8080/",
          "height": 302
        },
        "id": "20zeEGvAOJHP",
        "outputId": "19cd0807-81ab-4eba-fa3a-bcd69e07347c"
      },
      "execution_count": 13,
      "outputs": [
        {
          "output_type": "execute_result",
          "data": {
            "text/plain": [
              "<matplotlib.axes._subplots.AxesSubplot at 0x7f1b0fc1c650>"
            ]
          },
          "metadata": {},
          "execution_count": 13
        },
        {
          "output_type": "display_data",
          "data": {
            "image/png": "[encoded data removed]",
            "text/plain": [
              "<Figure size 432x288 with 1 Axes>"
            ]
          },
          "metadata": {
            "needs_background": "light"
          }
        }
      ]
    },
    {
      "cell_type": "code",
      "source": [
        ""
      ],
      "metadata": {
        "id": "6FBT_al-OS-h"
      },
      "execution_count": null,
      "outputs": []
    }
  ]
}