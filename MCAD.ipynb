{
  "nbformat": 4,
  "nbformat_minor": 0,
  "metadata": {
    "colab": {
      "name": "MCAD.ipynb",
      "provenance": [],
      "collapsed_sections": [],
      "authorship_tag": "ABX9TyNWgyHM6jyU7TCbIra15Zk3",
      "include_colab_link": true
    },
    "kernelspec": {
      "name": "python3",
      "display_name": "Python 3"
    },
    "language_info": {
      "name": "python"
    }
  },
  "cells": [
    {
      "cell_type": "markdown",
      "metadata": {
        "id": "view-in-github",
        "colab_type": "text"
      },
      "source": [
        "<a href=\"https://colab.research.google.com/github/gkondayya/ACP2021/blob/main/MCAD.ipynb\" target=\"_parent\"><img src=\"https://colab.research.google.com/assets/colab-badge.svg\" alt=\"Open In Colab\"/></a>"
      ]
    },
    {
      "cell_type": "code",
      "execution_count": 1,
      "metadata": {
        "colab": {
          "base_uri": "https://localhost:8080/"
        },
        "id": "fW1WRRCvOtez",
        "outputId": "d1118465-b739-4745-c3a6-395c818ef25c"
      },
      "outputs": [
        {
          "output_type": "stream",
          "name": "stdout",
          "text": [
            "Collecting yfinance\n",
            "  Downloading yfinance-0.1.67-py2.py3-none-any.whl (25 kB)\n",
            "Requirement already satisfied: pandas>=0.24 in /usr/local/lib/python3.7/dist-packages (from yfinance) (1.1.5)\n",
            "Requirement already satisfied: requests>=2.20 in /usr/local/lib/python3.7/dist-packages (from yfinance) (2.23.0)\n",
            "Requirement already satisfied: numpy>=1.15 in /usr/local/lib/python3.7/dist-packages (from yfinance) (1.19.5)\n",
            "Collecting lxml>=4.5.1\n",
            "  Downloading lxml-4.7.1-cp37-cp37m-manylinux_2_17_x86_64.manylinux2014_x86_64.manylinux_2_24_x86_64.whl (6.4 MB)\n",
            "\u001b[K     |████████████████████████████████| 6.4 MB 5.9 MB/s \n",
            "\u001b[?25hRequirement already satisfied: multitasking>=0.0.7 in /usr/local/lib/python3.7/dist-packages (from yfinance) (0.0.10)\n",
            "Requirement already satisfied: python-dateutil>=2.7.3 in /usr/local/lib/python3.7/dist-packages (from pandas>=0.24->yfinance) (2.8.2)\n",
            "Requirement already satisfied: pytz>=2017.2 in /usr/local/lib/python3.7/dist-packages (from pandas>=0.24->yfinance) (2018.9)\n",
            "Requirement already satisfied: six>=1.5 in /usr/local/lib/python3.7/dist-packages (from python-dateutil>=2.7.3->pandas>=0.24->yfinance) (1.15.0)\n",
            "Requirement already satisfied: chardet<4,>=3.0.2 in /usr/local/lib/python3.7/dist-packages (from requests>=2.20->yfinance) (3.0.4)\n",
            "Requirement already satisfied: certifi>=2017.4.17 in /usr/local/lib/python3.7/dist-packages (from requests>=2.20->yfinance) (2021.10.8)\n",
            "Requirement already satisfied: urllib3!=1.25.0,!=1.25.1,<1.26,>=1.21.1 in /usr/local/lib/python3.7/dist-packages (from requests>=2.20->yfinance) (1.24.3)\n",
            "Requirement already satisfied: idna<3,>=2.5 in /usr/local/lib/python3.7/dist-packages (from requests>=2.20->yfinance) (2.10)\n",
            "Installing collected packages: lxml, yfinance\n",
            "  Attempting uninstall: lxml\n",
            "    Found existing installation: lxml 4.2.6\n",
            "    Uninstalling lxml-4.2.6:\n",
            "      Successfully uninstalled lxml-4.2.6\n",
            "Successfully installed lxml-4.7.1 yfinance-0.1.67\n"
          ]
        }
      ],
      "source": [
        "pip install yfinance "
      ]
    },
    {
      "cell_type": "code",
      "source": [
        "import yfinance as yf\n",
        "import pandas as pd\n",
        "import datetime as dt"
      ],
      "metadata": {
        "id": "_c3hfUQFOxtX"
      },
      "execution_count": 2,
      "outputs": []
    },
    {
      "cell_type": "code",
      "source": [
        "stocks = [\"RELIANCE.NS\",\"IRCTC.NS\", \"HDFCBANK.NS\",\"INFY.NS\",\"AMBER.NS\", \"BAJFINANCE.NS\"]\n",
        "\n",
        "ohlcv_data = {}\n"
      ],
      "metadata": {
        "id": "MRgJi1AwO62Z"
      },
      "execution_count": 25,
      "outputs": []
    },
    {
      "cell_type": "code",
      "source": [
        "# looping over tickers and storing OHLCV dataframe in dictionary\n",
        "for ticker in stocks:\n",
        "    temp = yf.download(ticker,period='1mo',interval='15m')\n",
        "    temp.dropna(how=\"any\",inplace=True)\n",
        "    ohlcv_data[ticker] = temp"
      ],
      "metadata": {
        "colab": {
          "base_uri": "https://localhost:8080/"
        },
        "id": "W53AktHmPOV4",
        "outputId": "6f66d90d-1f57-42ad-b58f-79629a239105"
      },
      "execution_count": 34,
      "outputs": [
        {
          "output_type": "stream",
          "name": "stdout",
          "text": [
            "[*********************100%***********************]  1 of 1 completed\n",
            "[*********************100%***********************]  1 of 1 completed\n",
            "[*********************100%***********************]  1 of 1 completed\n",
            "[*********************100%***********************]  1 of 1 completed\n",
            "[*********************100%***********************]  1 of 1 completed\n",
            "[*********************100%***********************]  1 of 1 completed\n"
          ]
        }
      ]
    },
    {
      "cell_type": "code",
      "source": [
        "def MACD(DF, a=12 ,b=26, c=9):\n",
        "    \"\"\"function to calculate MACD\n",
        "       typical values a(fast moving average) = 12; \n",
        "                      b(slow moving average) =26; \n",
        "                      c(signal line ma window) =9\"\"\"\n",
        "    df = DF.copy()\n",
        "    df[\"ma_fast\"] = df[\"Adj Close\"].ewm(span=a, min_periods=a).mean()\n",
        "    df[\"ma_slow\"] = df[\"Adj Close\"].ewm(span=b, min_periods=b).mean()\n",
        "    df[\"macd\"] = df[\"ma_fast\"] - df[\"ma_slow\"]\n",
        "    df[\"signal\"] = df[\"macd\"].ewm(span=c, min_periods=c).mean()\n",
        "    return df.loc[:,[\"macd\",\"signal\"]]\n"
      ],
      "metadata": {
        "id": "qAItyYtTQQps"
      },
      "execution_count": 35,
      "outputs": []
    },
    {
      "cell_type": "code",
      "source": [
        "for ticker in ohlcv_data:\n",
        "    ohlcv_data[ticker][[\"MACD\",\"SIGNAL\"]] = MACD(ohlcv_data[ticker], a=12 ,b=26, c=9)"
      ],
      "metadata": {
        "id": "xTR7M0awae2h"
      },
      "execution_count": 36,
      "outputs": []
    },
    {
      "cell_type": "code",
      "source": [
        "ohlcv_data"
      ],
      "metadata": {
        "colab": {
          "base_uri": "https://localhost:8080/"
        },
        "id": "j4HmR2HSajVp",
        "outputId": "8babb5a1-cc2b-4402-ac53-6e1802578a8a"
      },
      "execution_count": 37,
      "outputs": [
        {
          "output_type": "execute_result",
          "data": {
            "text/plain": [
              "{'AAPL':                                  Open        High  ...      MACD    SIGNAL\n",
              " Datetime                                           ...                    \n",
              " 2021-11-22 09:30:00-05:00  161.679993  163.690002  ...       NaN       NaN\n",
              " 2021-11-22 09:45:00-05:00  163.640701  164.779999  ...       NaN       NaN\n",
              " 2021-11-22 10:00:00-05:00  164.669998  165.339996  ...       NaN       NaN\n",
              " 2021-11-22 10:15:00-05:00  165.259995  165.699997  ...       NaN       NaN\n",
              " 2021-11-22 10:30:00-05:00  165.302505  165.589996  ...       NaN       NaN\n",
              " ...                               ...         ...  ...       ...       ...\n",
              " 2021-12-20 14:45:00-05:00  169.690002  170.235001  ... -0.242905 -0.412780\n",
              " 2021-12-20 15:00:00-05:00  169.949997  170.429993  ... -0.233115 -0.376847\n",
              " 2021-12-20 15:15:00-05:00  169.559998  170.059998  ... -0.204442 -0.342366\n",
              " 2021-12-20 15:30:00-05:00  169.770004  169.770004  ... -0.209960 -0.315885\n",
              " 2021-12-20 15:45:00-05:00  169.399994  170.190002  ... -0.171207 -0.286949\n",
              " \n",
              " [509 rows x 8 columns],\n",
              " 'AMBER.NS':                                   Open         High  ...       MACD     SIGNAL\n",
              " Datetime                                             ...                      \n",
              " 2021-11-22 09:15:00+05:30  3462.750000  3462.750000  ...        NaN        NaN\n",
              " 2021-11-22 09:30:00+05:30  3413.500000  3529.000000  ...        NaN        NaN\n",
              " 2021-11-22 09:45:00+05:30  3531.000000  3531.000000  ...        NaN        NaN\n",
              " 2021-11-22 10:00:00+05:30  3475.949951  3480.000000  ...        NaN        NaN\n",
              " 2021-11-22 10:15:00+05:30  3441.449951  3455.750000  ...        NaN        NaN\n",
              " ...                                ...          ...  ...        ...        ...\n",
              " 2021-12-21 09:45:00+05:30  3353.300049  3398.949951  ...   1.846119 -15.144782\n",
              " 2021-12-21 10:00:00+05:30  3393.949951  3399.949951  ...   8.566625 -10.402500\n",
              " 2021-12-21 10:15:00+05:30  3390.000000  3416.149902  ...  15.218121  -5.278376\n",
              " 2021-12-21 10:30:00+05:30  3412.149902  3412.149902  ...  19.713528  -0.279995\n",
              " 2021-12-21 10:44:06+05:30  3404.100098  3404.100098  ...  23.054794   4.386963\n",
              " \n",
              " [532 rows x 8 columns],\n",
              " 'BAJFINANCE.NS':                                   Open         High  ...       MACD     SIGNAL\n",
              " Datetime                                             ...                      \n",
              " 2021-11-22 09:15:00+05:30  7490.350098  7509.350098  ...        NaN        NaN\n",
              " 2021-11-22 09:30:00+05:30  7353.850098  7373.950195  ...        NaN        NaN\n",
              " 2021-11-22 09:45:00+05:30  7320.000000  7335.000000  ...        NaN        NaN\n",
              " 2021-11-22 10:00:00+05:30  7333.000000  7333.950195  ...        NaN        NaN\n",
              " 2021-11-22 10:15:00+05:30  7282.399902  7282.750000  ...        NaN        NaN\n",
              " ...                                ...          ...  ...        ...        ...\n",
              " 2021-12-21 09:45:00+05:30  6686.000000  6696.299805  ... -12.081979 -41.372081\n",
              " 2021-12-21 10:00:00+05:30  6686.000000  6689.700195  ...  -6.601133 -34.417891\n",
              " 2021-12-21 10:15:00+05:30  6688.799805  6732.450195  ...   0.639999 -27.406313\n",
              " 2021-12-21 10:30:00+05:30  6724.049805  6729.000000  ...   5.221049 -20.880841\n",
              " 2021-12-21 10:44:10+05:30  6710.500000  6710.500000  ...   8.758677 -14.952937\n",
              " \n",
              " [532 rows x 8 columns],\n",
              " 'GOOG':                                   Open         High  ...      MACD    SIGNAL\n",
              " Datetime                                             ...                    \n",
              " 2021-11-22 09:30:00-05:00  3002.835205  3014.889893  ...       NaN       NaN\n",
              " 2021-11-22 09:45:00-05:00  2996.000000  2996.000000  ...       NaN       NaN\n",
              " 2021-11-22 10:00:00-05:00  2974.000000  2990.889893  ...       NaN       NaN\n",
              " 2021-11-22 10:15:00-05:00  2989.399902  2992.919922  ...       NaN       NaN\n",
              " 2021-11-22 10:30:00-05:00  2984.429932  2987.554932  ...       NaN       NaN\n",
              " ...                                ...          ...  ...       ...       ...\n",
              " 2021-12-20 14:45:00-05:00  2831.159912  2839.800049  ... -5.145840 -8.600106\n",
              " 2021-12-20 15:00:00-05:00  2836.209961  2839.570068  ... -4.185364 -7.717158\n",
              " 2021-12-20 15:15:00-05:00  2837.860107  2846.393066  ... -3.360424 -6.845811\n",
              " 2021-12-20 15:30:00-05:00  2836.070068  2844.029785  ... -2.379059 -5.952461\n",
              " 2021-12-20 15:45:00-05:00  2839.790039  2852.209961  ... -0.914590 -4.944887\n",
              " \n",
              " [509 rows x 8 columns],\n",
              " 'HDFCBANK.NS':                                   Open         High  ...      MACD    SIGNAL\n",
              " Datetime                                             ...                    \n",
              " 2021-11-22 09:15:00+05:30  1547.050049  1551.500000  ...       NaN       NaN\n",
              " 2021-11-22 09:30:00+05:30  1534.349976  1537.349976  ...       NaN       NaN\n",
              " 2021-11-22 09:45:00+05:30  1524.800049  1532.599976  ...       NaN       NaN\n",
              " 2021-11-22 10:00:00+05:30  1532.050049  1532.050049  ...       NaN       NaN\n",
              " 2021-11-22 10:15:00+05:30  1527.150024  1528.449951  ...       NaN       NaN\n",
              " ...                                ...          ...  ...       ...       ...\n",
              " 2021-12-21 09:45:00+05:30  1436.599976  1439.949951  ... -3.422447 -7.009372\n",
              " 2021-12-21 10:00:00+05:30  1439.650024  1439.900024  ... -2.716663 -6.150830\n",
              " 2021-12-21 10:15:00+05:30  1436.400024  1442.849976  ... -1.654107 -5.251485\n",
              " 2021-12-21 10:30:00+05:30  1442.849976  1446.349976  ... -0.599347 -4.321058\n",
              " 2021-12-21 10:44:09+05:30  1446.550049  1446.550049  ...  0.325602 -3.391726\n",
              " \n",
              " [532 rows x 8 columns],\n",
              " 'INFY.NS':                                   Open         High  ...      MACD    SIGNAL\n",
              " Datetime                                             ...                    \n",
              " 2021-11-22 09:15:00+05:30  1781.150024  1783.800049  ...       NaN       NaN\n",
              " 2021-11-22 09:30:00+05:30  1774.900024  1779.750000  ...       NaN       NaN\n",
              " 2021-11-22 09:45:00+05:30  1772.050049  1772.699951  ...       NaN       NaN\n",
              " 2021-11-22 10:00:00+05:30  1770.500000  1770.800049  ...       NaN       NaN\n",
              " 2021-11-22 10:15:00+05:30  1765.349976  1767.750000  ...       NaN       NaN\n",
              " ...                                ...          ...  ...       ...       ...\n",
              " 2021-12-21 09:45:00+05:30  1821.150024  1828.000000  ...  1.533545 -1.969613\n",
              " 2021-12-21 10:00:00+05:30  1825.150024  1825.500000  ...  2.260666 -1.123557\n",
              " 2021-12-21 10:15:00+05:30  1818.550049  1825.750000  ...  3.327096 -0.233426\n",
              " 2021-12-21 10:30:00+05:30  1825.650024  1829.650024  ...  4.268287  0.666916\n",
              " 2021-12-21 10:44:10+05:30  1828.000000  1828.000000  ...  5.008899  1.535313\n",
              " \n",
              " [532 rows x 8 columns],\n",
              " 'IRCTC.NS':                                  Open        High  ...      MACD    SIGNAL\n",
              " Datetime                                           ...                    \n",
              " 2021-11-22 09:15:00+05:30  910.000000  919.500000  ...       NaN       NaN\n",
              " 2021-11-22 09:30:00+05:30  906.150024  910.000000  ...       NaN       NaN\n",
              " 2021-11-22 09:45:00+05:30  899.900024  907.150024  ...       NaN       NaN\n",
              " 2021-11-22 10:00:00+05:30  903.700012  905.000000  ...       NaN       NaN\n",
              " 2021-11-22 10:15:00+05:30  902.349976  904.500000  ...       NaN       NaN\n",
              " ...                               ...         ...  ...       ...       ...\n",
              " 2021-12-21 09:45:00+05:30  805.000000  807.500000  ... -2.273832 -5.605502\n",
              " 2021-12-21 10:00:00+05:30  805.349976  808.450012  ... -1.373742 -4.759150\n",
              " 2021-12-21 10:15:00+05:30  807.400024  811.000000  ... -0.425539 -3.892428\n",
              " 2021-12-21 10:30:00+05:30  810.000000  811.500000  ...  0.334171 -3.047108\n",
              " 2021-12-21 10:44:07+05:30  810.200012  810.200012  ...  0.909623 -2.255762\n",
              " \n",
              " [532 rows x 8 columns],\n",
              " 'MSFT':                                  Open        High  ...      MACD    SIGNAL\n",
              " Datetime                                           ...                    \n",
              " 2021-11-22 09:30:00-05:00  344.619995  348.325012  ...       NaN       NaN\n",
              " 2021-11-22 09:45:00-05:00  348.000000  348.000000  ...       NaN       NaN\n",
              " 2021-11-22 10:00:00-05:00  346.959991  348.839996  ...       NaN       NaN\n",
              " 2021-11-22 10:15:00-05:00  348.510010  349.670013  ...       NaN       NaN\n",
              " 2021-11-22 10:30:00-05:00  349.200012  349.209991  ...       NaN       NaN\n",
              " ...                               ...         ...  ...       ...       ...\n",
              " 2021-12-20 14:45:00-05:00  319.329987  320.140015  ... -0.698824 -0.895229\n",
              " 2021-12-20 15:00:00-05:00  319.309998  320.089996  ... -0.628157 -0.841814\n",
              " 2021-12-20 15:15:00-05:00  319.459991  320.459991  ... -0.545689 -0.782589\n",
              " 2021-12-20 15:30:00-05:00  319.670013  319.709991  ... -0.510453 -0.728162\n",
              " 2021-12-20 15:45:00-05:00  319.200012  320.329987  ... -0.403143 -0.663158\n",
              " \n",
              " [509 rows x 8 columns],\n",
              " 'RELIANCE.NS':                                   Open         High  ...      MACD     SIGNAL\n",
              " Datetime                                             ...                     \n",
              " 2021-11-22 09:15:00+05:30  2448.699951  2448.699951  ...       NaN        NaN\n",
              " 2021-11-22 09:30:00+05:30  2374.100098  2400.000000  ...       NaN        NaN\n",
              " 2021-11-22 09:45:00+05:30  2399.600098  2405.000000  ...       NaN        NaN\n",
              " 2021-11-22 10:00:00+05:30  2398.000000  2401.000000  ...       NaN        NaN\n",
              " 2021-11-22 10:15:00+05:30  2385.300049  2390.000000  ...       NaN        NaN\n",
              " ...                                ...          ...  ...       ...        ...\n",
              " 2021-12-21 09:45:00+05:30  2312.000000  2324.000000  ... -1.736929 -10.614708\n",
              " 2021-12-21 10:00:00+05:30  2318.800049  2324.000000  ...  0.884204  -8.314926\n",
              " 2021-12-21 10:15:00+05:30  2317.449951  2329.449951  ...  3.609776  -5.929985\n",
              " 2021-12-21 10:30:00+05:30  2326.300049  2332.000000  ...  5.943376  -3.555313\n",
              " 2021-12-21 10:44:09+05:30  2329.000000  2329.000000  ...  7.703964  -1.303458\n",
              " \n",
              " [532 rows x 8 columns]}"
            ]
          },
          "metadata": {},
          "execution_count": 37
        }
      ]
    },
    {
      "cell_type": "code",
      "source": [
        ""
      ],
      "metadata": {
        "id": "IbZ3LD9JZvsj"
      },
      "execution_count": null,
      "outputs": []
    }
  ]
}