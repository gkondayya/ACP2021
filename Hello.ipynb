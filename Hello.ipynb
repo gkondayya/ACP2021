{
  "nbformat": 4,
  "nbformat_minor": 0,
  "metadata": {
    "colab": {
      "name": "Hello.ipynb",
      "provenance": [],
      "collapsed_sections": []
    },
    "kernelspec": {
      "name": "python3",
      "display_name": "Python 3"
    },
    "language_info": {
      "name": "python"
    }
  },
  "cells": [
    {
      "cell_type": "code",
      "metadata": {
        "colab": {
          "base_uri": "https://localhost:8080/",
          "height": 319
        },
        "id": "sjHRv5lspF1A",
        "outputId": "65d68257-c3ef-40cc-f73d-43e67fe1180a"
      },
      "source": [
        "import numpy as np\n",
        "import matplotlib.pyplot as plt\n",
        "\n",
        "Area = np.pi*0.5**2\n",
        "N=100000\n",
        "x=np.random.uniform(-0.5,0.5,N)\n",
        "y=np.random.uniform(-0.5,0.5,N)\n",
        "#print(type(x))\n",
        "plt.scatter(x,y)\n",
        "Nc=0.0\n",
        "j=0\n",
        "xc=[]\n",
        "yc=[]\n",
        "for i in range(N):\n",
        "  if ((x[i]**2+y[i]**2) < 0.5**2):\n",
        "    Nc+=1.0\n",
        "    xc.append(x[i])\n",
        "    yc.append(y[i])\n",
        "plt.scatter(xc,yc)    \n",
        "plt.show()\n",
        "Area_MC = Nc/N\n",
        "print(\"Actual Area=\", Area, \"   Area by MC method\", Area_MC)\n",
        "print(\"Relative Error \", abs(Area-Area_MC)/Area*100,\"%\")"
      ],
      "execution_count": 73,
      "outputs": [
        {
          "output_type": "stream",
          "text": [
            "<class 'numpy.ndarray'>\n"
          ],
          "name": "stdout"
        },
        {
          "output_type": "display_data",
          "data": {
            "image/png": "[encoded data removed]",
            "text/plain": [
              "<Figure size 432x288 with 1 Axes>"
            ]
          },
          "metadata": {
            "tags": [],
            "needs_background": "light"
          }
        },
        {
          "output_type": "stream",
          "text": [
            "Actual Area= 0.7853981633974483    Area by MC method 0.78559\n",
            "Relative Error  0.024425394849650697 %\n"
          ],
          "name": "stdout"
        }
      ]
    },
    {
      "cell_type": "code",
      "metadata": {
        "id": "9cfmgYhxpsj8"
      },
      "source": [
        ""
      ],
      "execution_count": 64,
      "outputs": []
    }
  ]
}