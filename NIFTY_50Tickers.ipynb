{
  "nbformat": 4,
  "nbformat_minor": 0,
  "metadata": {
    "colab": {
      "name": "NIFTY_50Tickers.ipynb",
      "provenance": [],
      "collapsed_sections": [],
      "authorship_tag": "ABX9TyN6mIU6DLVqhnH2huYrSZCi",
      "include_colab_link": true
    },
    "kernelspec": {
      "name": "python3",
      "display_name": "Python 3"
    },
    "language_info": {
      "name": "python"
    }
  },
  "cells": [
    {
      "cell_type": "markdown",
      "metadata": {
        "id": "view-in-github",
        "colab_type": "text"
      },
      "source": [
        "<a href=\"https://colab.research.google.com/github/gkondayya/ACP2021/blob/main/NIFTY_50Tickers.ipynb\" target=\"_parent\"><img src=\"https://colab.research.google.com/assets/colab-badge.svg\" alt=\"Open In Colab\"/></a>"
      ]
    },
    {
      "cell_type": "code",
      "execution_count": 1,
      "metadata": {
        "id": "oh7x6ZXYy_Ox"
      },
      "outputs": [],
      "source": [
        "import bs4 as bs\n",
        "import pickle\n",
        "import requests\n"
      ]
    },
    {
      "cell_type": "code",
      "source": [
        "def save_nifty50_tickers():\n",
        "    resp=requests.get('https://en.wikipedia.org/wiki/NIFTY_50')\n",
        "    soup=bs.BeautifulSoup(resp.text,\"lxml\")\n",
        "    table=soup.find('table', {'class':'wikitable sortable'})\n",
        "    tickers=[]\n",
        "    for row in table.findAll('tr')[1:]:\n",
        "        ticker= row.findAll('td')[1].text\n",
        "        tickers.append(ticker)\n",
        "    with open(\"nifty50.pickle\",\"wb\") as f:\n",
        "        pickle.dump(tickers,f)\n",
        "    print (tickers)\n",
        "    return tickers\n"
      ],
      "metadata": {
        "id": "4GvRH1vBzNdN"
      },
      "execution_count": null,
      "outputs": []
    },
    {
      "cell_type": "code",
      "source": [
        "nifty50 = save_nifty50_tickers()\n",
        "ext = \".NS\" \n",
        "nifty50yf = [t + ext for t in nifty50 ]\n",
        "nifty50yf"
      ],
      "metadata": {
        "id": "DKAGWVXQ0IcG"
      },
      "execution_count": null,
      "outputs": []
    },
    {
      "cell_type": "code",
      "source": [
        "import pandas as pd\n",
        "url = \"https://www.moneycontrol.com/stocks/marketstats/indexcomp.php?optex=NSE&opttopic=indexcomp&index=28\" # good source for stocks in sector wise\n",
        "url = \"https://www.equitymaster.com/stockquotes/1-69/list-of-nifty-100-stocks\"\n",
        "html = requests.get(url).content\n",
        "df_list = pd.read_html(html)\n",
        "df = df_list[-1]\n",
        "\n",
        "stocks = df['SCRIP']\n",
        "stocks"
      ],
      "metadata": {
        "id": "i8N4oLZ99_Cq"
      },
      "execution_count": null,
      "outputs": []
    },
    {
      "cell_type": "code",
      "source": [
        "import pandas as pd\n",
        "import io\n",
        "import requests\n",
        "url = 'https://www.nseindia.com/content/indices/ind_nifty50list.csv'\n",
        "s = requests.get(url).content\n",
        "df = pd.read_csv(io.StringIO(s.decode('utf-8')))\n",
        "df.Symbol"
      ],
      "metadata": {
        "id": "a-XyyicT_n-w"
      },
      "execution_count": null,
      "outputs": []
    }
  ]
}