{
  "nbformat": 4,
  "nbformat_minor": 0,
  "metadata": {
    "colab": {
      "name": "Renco_OBV_alphavantage",
      "provenance": [],
      "authorship_tag": "ABX9TyNOSDXdk+fq7uDeBChF6YVj",
      "include_colab_link": true
    },
    "kernelspec": {
      "name": "python3",
      "display_name": "Python 3"
    },
    "language_info": {
      "name": "python"
    }
  },
  "cells": [
    {
      "cell_type": "markdown",
      "metadata": {
        "id": "view-in-github",
        "colab_type": "text"
      },
      "source": [
        "<a href=\"https://colab.research.google.com/github/gkondayya/ACP2021/blob/main/Renco_OBV_alphavantage.ipynb\" target=\"_parent\"><img src=\"https://colab.research.google.com/assets/colab-badge.svg\" alt=\"Open In Colab\"/></a>"
      ]
    },
    {
      "cell_type": "code",
      "execution_count": 1,
      "metadata": {
        "colab": {
          "base_uri": "https://localhost:8080/"
        },
        "id": "Z-BdUap9apTt",
        "outputId": "e6e71113-de9f-4c36-91b7-e4a847dea51c"
      },
      "outputs": [
        {
          "output_type": "stream",
          "name": "stdout",
          "text": [
            "Collecting alpha_vantage\n",
            "  Downloading alpha_vantage-2.3.1-py3-none-any.whl (31 kB)\n",
            "Requirement already satisfied: requests in /usr/local/lib/python3.7/dist-packages (from alpha_vantage) (2.23.0)\n",
            "Collecting aiohttp\n",
            "  Downloading aiohttp-3.8.1-cp37-cp37m-manylinux_2_5_x86_64.manylinux1_x86_64.manylinux_2_12_x86_64.manylinux2010_x86_64.whl (1.1 MB)\n",
            "\u001b[K     |████████████████████████████████| 1.1 MB 20.3 MB/s \n",
            "\u001b[?25hCollecting asynctest==0.13.0\n",
            "  Downloading asynctest-0.13.0-py3-none-any.whl (26 kB)\n",
            "Collecting async-timeout<5.0,>=4.0.0a3\n",
            "  Downloading async_timeout-4.0.2-py3-none-any.whl (5.8 kB)\n",
            "Collecting frozenlist>=1.1.1\n",
            "  Downloading frozenlist-1.2.0-cp37-cp37m-manylinux_2_5_x86_64.manylinux1_x86_64.manylinux_2_12_x86_64.manylinux2010_x86_64.whl (192 kB)\n",
            "\u001b[K     |████████████████████████████████| 192 kB 62.0 MB/s \n",
            "\u001b[?25hCollecting multidict<7.0,>=4.5\n",
            "  Downloading multidict-5.2.0-cp37-cp37m-manylinux_2_5_x86_64.manylinux1_x86_64.manylinux_2_12_x86_64.manylinux2010_x86_64.whl (160 kB)\n",
            "\u001b[K     |████████████████████████████████| 160 kB 47.6 MB/s \n",
            "\u001b[?25hRequirement already satisfied: attrs>=17.3.0 in /usr/local/lib/python3.7/dist-packages (from aiohttp->alpha_vantage) (21.2.0)\n",
            "Requirement already satisfied: typing-extensions>=3.7.4 in /usr/local/lib/python3.7/dist-packages (from aiohttp->alpha_vantage) (3.10.0.2)\n",
            "Collecting aiosignal>=1.1.2\n",
            "  Downloading aiosignal-1.2.0-py3-none-any.whl (8.2 kB)\n",
            "Collecting yarl<2.0,>=1.0\n",
            "  Downloading yarl-1.7.2-cp37-cp37m-manylinux_2_5_x86_64.manylinux1_x86_64.manylinux_2_12_x86_64.manylinux2010_x86_64.whl (271 kB)\n",
            "\u001b[K     |████████████████████████████████| 271 kB 67.1 MB/s \n",
            "\u001b[?25hRequirement already satisfied: charset-normalizer<3.0,>=2.0 in /usr/local/lib/python3.7/dist-packages (from aiohttp->alpha_vantage) (2.0.8)\n",
            "Requirement already satisfied: idna>=2.0 in /usr/local/lib/python3.7/dist-packages (from yarl<2.0,>=1.0->aiohttp->alpha_vantage) (2.10)\n",
            "Requirement already satisfied: certifi>=2017.4.17 in /usr/local/lib/python3.7/dist-packages (from requests->alpha_vantage) (2021.10.8)\n",
            "Requirement already satisfied: urllib3!=1.25.0,!=1.25.1,<1.26,>=1.21.1 in /usr/local/lib/python3.7/dist-packages (from requests->alpha_vantage) (1.24.3)\n",
            "Requirement already satisfied: chardet<4,>=3.0.2 in /usr/local/lib/python3.7/dist-packages (from requests->alpha_vantage) (3.0.4)\n",
            "Installing collected packages: multidict, frozenlist, yarl, asynctest, async-timeout, aiosignal, aiohttp, alpha-vantage\n",
            "Successfully installed aiohttp-3.8.1 aiosignal-1.2.0 alpha-vantage-2.3.1 async-timeout-4.0.2 asynctest-0.13.0 frozenlist-1.2.0 multidict-5.2.0 yarl-1.7.2\n"
          ]
        }
      ],
      "source": [
        "pip install alpha_vantage"
      ]
    },
    {
      "cell_type": "code",
      "source": [
        "pip install stocktrends"
      ],
      "metadata": {
        "colab": {
          "base_uri": "https://localhost:8080/"
        },
        "id": "Kf2EBW1bw9Gc",
        "outputId": "f8d3cc96-970e-4748-b4f3-f11c92c86067"
      },
      "execution_count": 2,
      "outputs": [
        {
          "output_type": "stream",
          "name": "stdout",
          "text": [
            "Collecting stocktrends\n",
            "  Downloading stocktrends-0.1.5.tar.gz (4.8 kB)\n",
            "Building wheels for collected packages: stocktrends\n",
            "  Building wheel for stocktrends (setup.py) ... \u001b[?25l\u001b[?25hdone\n",
            "  Created wheel for stocktrends: filename=stocktrends-0.1.5-py3-none-any.whl size=5268 sha256=62e7eca4bcbf280e85df51e5c0e4b1fbde2281b39fe279a985081ef455e6ecb5\n",
            "  Stored in directory: /root/.cache/pip/wheels/90/ef/b1/e0236a481889eb9ffff00c842d80b99e1269e62d0b9c2c32ea\n",
            "Successfully built stocktrends\n",
            "Installing collected packages: stocktrends\n",
            "Successfully installed stocktrends-0.1.5\n"
          ]
        }
      ]
    },
    {
      "cell_type": "code",
      "source": [
        "mykey = 'K3W1CPJUAGMGNW5M'"
      ],
      "metadata": {
        "id": "MXtAqhzxavPd"
      },
      "execution_count": 3,
      "outputs": []
    },
    {
      "cell_type": "code",
      "source": [
        "# importing libraries\n",
        "from alpha_vantage.timeseries import TimeSeries\n",
        "import pandas as pd\n",
        "import time\n",
        "import numpy as np\n",
        "from stocktrends import Renko\n",
        "import statsmodels.api as sm\n",
        "import copy\n",
        "\n"
      ],
      "metadata": {
        "colab": {
          "base_uri": "https://localhost:8080/"
        },
        "id": "6QtZOVOajglj",
        "outputId": "87f4fde2-bd32-4a91-800b-283210fa5df8"
      },
      "execution_count": 4,
      "outputs": [
        {
          "output_type": "stream",
          "name": "stderr",
          "text": [
            "/usr/local/lib/python3.7/dist-packages/statsmodels/tools/_testing.py:19: FutureWarning: pandas.util.testing is deprecated. Use the functions in the public API at pandas.testing instead.\n",
            "  import pandas.util.testing as tm\n"
          ]
        }
      ]
    },
    {
      "cell_type": "code",
      "source": [
        "def ATR(DF,n):\n",
        "    \"function to calculate True Range and Average True Range\"\n",
        "    df = DF.copy()\n",
        "    df['H-L']=abs(df['High']-df['Low'])\n",
        "    df['H-PC']=abs(df['High']-df['Adj Close'].shift(1))\n",
        "    df['L-PC']=abs(df['Low']-df['Adj Close'].shift(1))\n",
        "    df['TR']=df[['H-L','H-PC','L-PC']].max(axis=1,skipna=False)\n",
        "    df['ATR'] = df['TR'].rolling(n).mean()\n",
        "    #df['ATR'] = df['TR'].ewm(span=n,adjust=False,min_periods=n).mean()\n",
        "    df2 = df.drop(['H-L','H-PC','L-PC'],axis=1)\n",
        "    return df2\n"
      ],
      "metadata": {
        "id": "2JMYciV34NcO"
      },
      "execution_count": 5,
      "outputs": []
    },
    {
      "cell_type": "code",
      "source": [
        "def slope(ser,n):\n",
        "    \"function to calculate the slope of n consecutive points on a plot\"\n",
        "    slopes = [i*0 for i in range(n-1)]\n",
        "    for i in range(n,len(ser)+1):\n",
        "        y = ser[i-n:i]\n",
        "        x = np.array(range(n))\n",
        "        y_scaled = (y - y.min())/(y.max() - y.min())\n",
        "        x_scaled = (x - x.min())/(x.max() - x.min())\n",
        "        x_scaled = sm.add_constant(x_scaled)\n",
        "        model = sm.OLS(y_scaled,x_scaled)\n",
        "        results = model.fit()\n",
        "        slopes.append(results.params[-1])\n",
        "    slope_angle = (np.rad2deg(np.arctan(np.array(slopes))))\n",
        "    return np.array(slope_angle)"
      ],
      "metadata": {
        "id": "cfKbI_cI4Q5b"
      },
      "execution_count": 6,
      "outputs": []
    },
    {
      "cell_type": "code",
      "source": [
        "def renko_DF(DF):\n",
        "    \"function to convert ohlc data into renko bricks\"\n",
        "    df = DF.copy()\n",
        "    df.reset_index(inplace=True)\n",
        "    df = df.iloc[:,[0,1,2,3,4,5]]\n",
        "    df.columns = [\"date\",\"open\",\"high\",\"low\",\"close\",\"volume\"]\n",
        "    df2 = Renko(df)\n",
        "    df2.brick_size = max(0.5,round(ATR(DF,120)[\"ATR\"][-1],0))\n",
        "    renko_df = df2.get_bricks()\n",
        "    renko_df[\"bar_num\"] = np.where(renko_df[\"uptrend\"]==True,1,np.where(renko_df[\"uptrend\"]==False,-1,0))\n",
        "    for i in range(1,len(renko_df[\"bar_num\"])):\n",
        "        if renko_df[\"bar_num\"][i]>0 and renko_df[\"bar_num\"][i-1]>0:\n",
        "            renko_df[\"bar_num\"][i]+=renko_df[\"bar_num\"][i-1]\n",
        "        elif renko_df[\"bar_num\"][i]<0 and renko_df[\"bar_num\"][i-1]<0:\n",
        "            renko_df[\"bar_num\"][i]+=renko_df[\"bar_num\"][i-1]\n",
        "    renko_df.drop_duplicates(subset=\"date\",keep=\"last\",inplace=True)\n",
        "    return renko_df\n"
      ],
      "metadata": {
        "id": "PbyOToag5E8I"
      },
      "execution_count": 7,
      "outputs": []
    },
    {
      "cell_type": "code",
      "source": [
        "def OBV(DF):\n",
        "    \"\"\"function to calculate On Balance Volume\"\"\"\n",
        "    df = DF.copy()\n",
        "    df['daily_ret'] = df['Adj Close'].pct_change()\n",
        "    df['direction'] = np.where(df['daily_ret']>=0,1,-1)\n",
        "    df['direction'][0] = 0\n",
        "    df['vol_adj'] = df['Volume'] * df['direction']\n",
        "    df['obv'] = df['vol_adj'].cumsum()\n",
        "    return df['obv']\n",
        "\n",
        "def CAGR(DF):\n",
        "    \"function to calculate the Cumulative Annual Growth Rate of a trading strategy\"\n",
        "    df = DF.copy()\n",
        "    df[\"cum_return\"] = (1 + df[\"ret\"]).cumprod()\n",
        "    n = len(df)/(252*78)\n",
        "    CAGR = (df[\"cum_return\"].tolist()[-1])**(1/n) - 1\n",
        "    return CAGR\n",
        "\n",
        "def volatility(DF):\n",
        "    \"function to calculate annualized volatility of a trading strategy\"\n",
        "    df = DF.copy()\n",
        "    vol = df[\"ret\"].std() * np.sqrt(252*78)\n",
        "    return vol\n",
        "\n",
        "def sharpe(DF,rf):\n",
        "    \"function to calculate sharpe ratio ; rf is the risk free rate\"\n",
        "    df = DF.copy()\n",
        "    sr = (CAGR(df) - rf)/volatility(df)\n",
        "    return sr\n",
        "    \n",
        "\n",
        "def max_dd(DF):\n",
        "    \"function to calculate max drawdown\"\n",
        "    df = DF.copy()\n",
        "    df[\"cum_return\"] = (1 + df[\"ret\"]).cumprod()\n",
        "    df[\"cum_roll_max\"] = df[\"cum_return\"].cummax()\n",
        "    df[\"drawdown\"] = df[\"cum_roll_max\"] - df[\"cum_return\"]\n",
        "    df[\"drawdown_pct\"] = df[\"drawdown\"]/df[\"cum_roll_max\"]\n",
        "    max_dd = df[\"drawdown_pct\"].max()\n",
        "    return max_dd\n"
      ],
      "metadata": {
        "id": "yTGjfBZzAb-q"
      },
      "execution_count": 8,
      "outputs": []
    },
    {
      "cell_type": "code",
      "source": [
        "tickers = [\"MSFT\",\"AAPL\",\"FB\",\"AMZN\",\"INTC\", \"CSCO\",\"VZ\",\"IBM\",\"QCOM\",\"LYFT\"]\n",
        "\n",
        "\n",
        "ohlc_intraday = {} # directory with ohlc value for each stock            \n",
        "ts = TimeSeries(key=mykey, output_format='pandas')"
      ],
      "metadata": {
        "id": "-0rFSLKbAoLc"
      },
      "execution_count": 9,
      "outputs": []
    },
    {
      "cell_type": "code",
      "source": [
        "attempt = 0 # initializing passthrough variable\n",
        "drop = [] # initializing list to store tickers whose close price was successfully extracted\n",
        "while len(tickers) != 0 and attempt <=300:\n",
        "    tickers = [j for j in tickers if j not in drop]\n",
        "    for i in range(len(tickers)):\n",
        "        try:\n",
        "            ohlc_intraday[tickers[i]] = ts.get_intraday(symbol=tickers[i],interval='5min', outputsize='full')[0]\n",
        "            ohlc_intraday[tickers[i]].columns = [\"Open\",\"High\",\"Low\",\"Adj Close\",\"Volume\"]\n",
        "            drop.append(tickers[i])      \n",
        "        except:\n",
        "            print(tickers[i],\" :failed to fetch data...retrying\")\n",
        "            continue\n",
        "    attempt+=1\n",
        "\n",
        " \n",
        "tickers = ohlc_intraday.keys() # redefine tickers variable after removing any tickers with corrupted data"
      ],
      "metadata": {
        "id": "E5Q7a_4yBNkk",
        "colab": {
          "base_uri": "https://localhost:8080/"
        },
        "outputId": "55031868-7196-419a-fecb-24e3e1f01140"
      },
      "execution_count": null,
      "outputs": [
        {
          "output_type": "stream",
          "name": "stdout",
          "text": [
            "LYFT  :failed to fetch data...retrying\n",
            "LYFT  :failed to fetch data...retrying\n",
            "LYFT  :failed to fetch data...retrying\n",
            "LYFT  :failed to fetch data...retrying\n",
            "LYFT  :failed to fetch data...retrying\n",
            "LYFT  :failed to fetch data...retrying\n",
            "LYFT  :failed to fetch data...retrying\n",
            "LYFT  :failed to fetch data...retrying\n",
            "LYFT  :failed to fetch data...retrying\n",
            "LYFT  :failed to fetch data...retrying\n",
            "LYFT  :failed to fetch data...retrying\n",
            "LYFT  :failed to fetch data...retrying\n",
            "LYFT  :failed to fetch data...retrying\n",
            "LYFT  :failed to fetch data...retrying\n",
            "LYFT  :failed to fetch data...retrying\n",
            "LYFT  :failed to fetch data...retrying\n",
            "LYFT  :failed to fetch data...retrying\n",
            "LYFT  :failed to fetch data...retrying\n",
            "LYFT  :failed to fetch data...retrying\n",
            "LYFT  :failed to fetch data...retrying\n",
            "LYFT  :failed to fetch data...retrying\n",
            "LYFT  :failed to fetch data...retrying\n"
          ]
        }
      ]
    },
    {
      "cell_type": "code",
      "source": [
        "################################Backtesting####################################\n",
        "\n",
        "#Merging renko df with original ohlc df\n",
        "ohlc_renko = {}\n",
        "df = copy.deepcopy(ohlc_intraday)\n",
        "tickers_signal = {}\n",
        "tickers_ret = {}\n",
        "for ticker in tickers:\n",
        "    print(\"merging for \",ticker)\n",
        "    renko = renko_DF(df[ticker])\n",
        "    renko.columns = [\"Date\",\"open\",\"high\",\"low\",\"close\",\"uptrend\",\"bar_num\"]\n",
        "    df[ticker][\"Date\"] = df[ticker].index\n",
        "    ohlc_renko[ticker] = df[ticker].merge(renko.loc[:,[\"Date\",\"bar_num\"]],how=\"outer\",on=\"Date\")\n",
        "    ohlc_renko[ticker][\"bar_num\"].fillna(method='ffill',inplace=True)\n",
        "    ohlc_renko[ticker][\"obv\"]= OBV(ohlc_renko[ticker])\n",
        "    ohlc_renko[ticker][\"obv_slope\"]= slope(ohlc_renko[ticker][\"obv\"],5)\n",
        "    tickers_signal[ticker] = \"\"\n",
        "    tickers_ret[ticker] = []"
      ],
      "metadata": {
        "colab": {
          "base_uri": "https://localhost:8080/",
          "height": 376
        },
        "id": "yH4oPu6lGmiP",
        "outputId": "d0568c96-4c0f-49f3-89ef-76ad6adf4d2b"
      },
      "execution_count": null,
      "outputs": [
        {
          "output_type": "stream",
          "name": "stdout",
          "text": [
            "merging for  MSFT\n"
          ]
        },
        {
          "output_type": "error",
          "ename": "AttributeError",
          "evalue": "ignored",
          "traceback": [
            "\u001b[0;31m---------------------------------------------------------------------------\u001b[0m",
            "\u001b[0;31mAttributeError\u001b[0m                            Traceback (most recent call last)",
            "\u001b[0;32m<ipython-input-14-ba4f58ef0078>\u001b[0m in \u001b[0;36m<module>\u001b[0;34m()\u001b[0m\n\u001b[1;32m      8\u001b[0m \u001b[0;32mfor\u001b[0m \u001b[0mticker\u001b[0m \u001b[0;32min\u001b[0m \u001b[0mtickers\u001b[0m\u001b[0;34m:\u001b[0m\u001b[0;34m\u001b[0m\u001b[0;34m\u001b[0m\u001b[0m\n\u001b[1;32m      9\u001b[0m     \u001b[0mprint\u001b[0m\u001b[0;34m(\u001b[0m\u001b[0;34m\"merging for \"\u001b[0m\u001b[0;34m,\u001b[0m\u001b[0mticker\u001b[0m\u001b[0;34m)\u001b[0m\u001b[0;34m\u001b[0m\u001b[0;34m\u001b[0m\u001b[0m\n\u001b[0;32m---> 10\u001b[0;31m     \u001b[0mrenko\u001b[0m \u001b[0;34m=\u001b[0m \u001b[0mrenko_DF\u001b[0m\u001b[0;34m(\u001b[0m\u001b[0mdf\u001b[0m\u001b[0;34m[\u001b[0m\u001b[0mticker\u001b[0m\u001b[0;34m]\u001b[0m\u001b[0;34m)\u001b[0m\u001b[0;34m\u001b[0m\u001b[0;34m\u001b[0m\u001b[0m\n\u001b[0m\u001b[1;32m     11\u001b[0m     \u001b[0mrenko\u001b[0m\u001b[0;34m.\u001b[0m\u001b[0mcolumns\u001b[0m \u001b[0;34m=\u001b[0m \u001b[0;34m[\u001b[0m\u001b[0;34m\"Date\"\u001b[0m\u001b[0;34m,\u001b[0m\u001b[0;34m\"open\"\u001b[0m\u001b[0;34m,\u001b[0m\u001b[0;34m\"high\"\u001b[0m\u001b[0;34m,\u001b[0m\u001b[0;34m\"low\"\u001b[0m\u001b[0;34m,\u001b[0m\u001b[0;34m\"close\"\u001b[0m\u001b[0;34m,\u001b[0m\u001b[0;34m\"uptrend\"\u001b[0m\u001b[0;34m,\u001b[0m\u001b[0;34m\"bar_num\"\u001b[0m\u001b[0;34m]\u001b[0m\u001b[0;34m\u001b[0m\u001b[0;34m\u001b[0m\u001b[0m\n\u001b[1;32m     12\u001b[0m     \u001b[0mdf\u001b[0m\u001b[0;34m[\u001b[0m\u001b[0mticker\u001b[0m\u001b[0;34m]\u001b[0m\u001b[0;34m[\u001b[0m\u001b[0;34m\"Date\"\u001b[0m\u001b[0;34m]\u001b[0m \u001b[0;34m=\u001b[0m \u001b[0mdf\u001b[0m\u001b[0;34m[\u001b[0m\u001b[0mticker\u001b[0m\u001b[0;34m]\u001b[0m\u001b[0;34m.\u001b[0m\u001b[0mindex\u001b[0m\u001b[0;34m\u001b[0m\u001b[0;34m\u001b[0m\u001b[0m\n",
            "\u001b[0;32m<ipython-input-13-ebf84853db02>\u001b[0m in \u001b[0;36mrenko_DF\u001b[0;34m(DF)\u001b[0m\n\u001b[1;32m      7\u001b[0m     \u001b[0mdf2\u001b[0m \u001b[0;34m=\u001b[0m \u001b[0mRenko\u001b[0m\u001b[0;34m(\u001b[0m\u001b[0mdf\u001b[0m\u001b[0;34m)\u001b[0m\u001b[0;34m\u001b[0m\u001b[0;34m\u001b[0m\u001b[0m\n\u001b[1;32m      8\u001b[0m     \u001b[0mdf2\u001b[0m\u001b[0;34m.\u001b[0m\u001b[0mbrick_size\u001b[0m \u001b[0;34m=\u001b[0m \u001b[0mmax\u001b[0m\u001b[0;34m(\u001b[0m\u001b[0;36m0.5\u001b[0m\u001b[0;34m,\u001b[0m\u001b[0mround\u001b[0m\u001b[0;34m(\u001b[0m\u001b[0mATR\u001b[0m\u001b[0;34m(\u001b[0m\u001b[0mDF\u001b[0m\u001b[0;34m,\u001b[0m\u001b[0;36m120\u001b[0m\u001b[0;34m)\u001b[0m\u001b[0;34m[\u001b[0m\u001b[0;34m\"ATR\"\u001b[0m\u001b[0;34m]\u001b[0m\u001b[0;34m[\u001b[0m\u001b[0;34m-\u001b[0m\u001b[0;36m1\u001b[0m\u001b[0;34m]\u001b[0m\u001b[0;34m,\u001b[0m\u001b[0;36m0\u001b[0m\u001b[0;34m)\u001b[0m\u001b[0;34m)\u001b[0m\u001b[0;34m\u001b[0m\u001b[0;34m\u001b[0m\u001b[0m\n\u001b[0;32m----> 9\u001b[0;31m     \u001b[0mrenko_df\u001b[0m \u001b[0;34m=\u001b[0m \u001b[0mdf2\u001b[0m\u001b[0;34m.\u001b[0m\u001b[0mget_bricks\u001b[0m\u001b[0;34m(\u001b[0m\u001b[0;34m)\u001b[0m\u001b[0;34m\u001b[0m\u001b[0;34m\u001b[0m\u001b[0m\n\u001b[0m\u001b[1;32m     10\u001b[0m     \u001b[0mrenko_df\u001b[0m\u001b[0;34m[\u001b[0m\u001b[0;34m\"bar_num\"\u001b[0m\u001b[0;34m]\u001b[0m \u001b[0;34m=\u001b[0m \u001b[0mnp\u001b[0m\u001b[0;34m.\u001b[0m\u001b[0mwhere\u001b[0m\u001b[0;34m(\u001b[0m\u001b[0mrenko_df\u001b[0m\u001b[0;34m[\u001b[0m\u001b[0;34m\"uptrend\"\u001b[0m\u001b[0;34m]\u001b[0m\u001b[0;34m==\u001b[0m\u001b[0;32mTrue\u001b[0m\u001b[0;34m,\u001b[0m\u001b[0;36m1\u001b[0m\u001b[0;34m,\u001b[0m\u001b[0mnp\u001b[0m\u001b[0;34m.\u001b[0m\u001b[0mwhere\u001b[0m\u001b[0;34m(\u001b[0m\u001b[0mrenko_df\u001b[0m\u001b[0;34m[\u001b[0m\u001b[0;34m\"uptrend\"\u001b[0m\u001b[0;34m]\u001b[0m\u001b[0;34m==\u001b[0m\u001b[0;32mFalse\u001b[0m\u001b[0;34m,\u001b[0m\u001b[0;34m-\u001b[0m\u001b[0;36m1\u001b[0m\u001b[0;34m,\u001b[0m\u001b[0;36m0\u001b[0m\u001b[0;34m)\u001b[0m\u001b[0;34m)\u001b[0m\u001b[0;34m\u001b[0m\u001b[0;34m\u001b[0m\u001b[0m\n\u001b[1;32m     11\u001b[0m     \u001b[0;32mfor\u001b[0m \u001b[0mi\u001b[0m \u001b[0;32min\u001b[0m \u001b[0mrange\u001b[0m\u001b[0;34m(\u001b[0m\u001b[0;36m1\u001b[0m\u001b[0;34m,\u001b[0m\u001b[0mlen\u001b[0m\u001b[0;34m(\u001b[0m\u001b[0mrenko_df\u001b[0m\u001b[0;34m[\u001b[0m\u001b[0;34m\"bar_num\"\u001b[0m\u001b[0;34m]\u001b[0m\u001b[0;34m)\u001b[0m\u001b[0;34m)\u001b[0m\u001b[0;34m:\u001b[0m\u001b[0;34m\u001b[0m\u001b[0;34m\u001b[0m\u001b[0m\n",
            "\u001b[0;31mAttributeError\u001b[0m: 'Renko' object has no attribute 'get_bricks'"
          ]
        }
      ]
    },
    {
      "cell_type": "code",
      "source": [
        "# extracting data for a single ticker\n",
        "ts = TimeSeries(key=mykey, output_format='pandas')\n",
        "data = ts.get_daily(symbol='EURUSD', outputsize='full')[0]\n",
        "data.columns = [\"open\",\"high\",\"low\",\"close\",\"volume\"]\n",
        "data = data.iloc[::-1]\n"
      ],
      "metadata": {
        "id": "xnA98pvFjptu"
      },
      "execution_count": null,
      "outputs": []
    },
    {
      "cell_type": "code",
      "source": [
        ""
      ],
      "metadata": {
        "id": "NBlrwJvMAbY8"
      },
      "execution_count": null,
      "outputs": []
    }
  ]
}