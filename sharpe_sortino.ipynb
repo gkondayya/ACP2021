{
  "nbformat": 4,
  "nbformat_minor": 0,
  "metadata": {
    "colab": {
      "name": "sharpe_sortino.ipynb",
      "provenance": [],
      "collapsed_sections": [],
      "authorship_tag": "ABX9TyMcvlzYtwZQlUyDSrRqmjn3",
      "include_colab_link": true
    },
    "kernelspec": {
      "name": "python3",
      "display_name": "Python 3"
    },
    "language_info": {
      "name": "python"
    }
  },
  "cells": [
    {
      "cell_type": "markdown",
      "metadata": {
        "id": "view-in-github",
        "colab_type": "text"
      },
      "source": [
        "<a href=\"https://colab.research.google.com/github/gkondayya/ACP2021/blob/main/sharpe_sortino.ipynb\" target=\"_parent\"><img src=\"https://colab.research.google.com/assets/colab-badge.svg\" alt=\"Open In Colab\"/></a>"
      ]
    },
    {
      "cell_type": "code",
      "execution_count": null,
      "metadata": {
        "id": "27-2Rh7qvYn7"
      },
      "outputs": [],
      "source": [
        "pip install yfinance"
      ]
    },
    {
      "cell_type": "markdown",
      "source": [
        "\n",
        "\n",
        "    The Sharpe ratio adjusts a portfolio’s past performance—or expected future performance—for the excess risk that was taken by the investor.\n",
        "    A high Sharpe ratio is good when compared to similar portfolios or funds with lower returns.\n",
        "    The Sharpe ratio has several weaknesses, including an assumption that investment returns are normally distributed.\n",
        "\n",
        "     Formula and Calculation of Sharpe Ratio\n",
        "\n",
        "Sharpe Ratio=Rp−Rfσpwhere:Rp=return of portfolioRf=risk-free rateσp=standard deviation of the portfolio’s excess return\\begin{aligned} &\\textit{Sharpe Ratio} = \\frac{R_p - R_f}{\\sigma_p}\\\\ &\\textbf{where:}\\\\ &R_{p}=\\text{return of portfolio}\\\\ &R_{f} = \\text{risk-free rate}\\\\ &\\sigma_p = \\text{standard deviation of the portfolio's excess return}\\\\ \\end{aligned}​Sharpe Ratio=σp​\n",
        "Rp​−Rf​​where:Rp​=return of portfolioRf​=risk-free rateσp​=standard deviation of the portfolio’s excess return​"
      ],
      "metadata": {
        "id": "FANhBbyqCOjF"
      }
    },
    {
      "cell_type": "code",
      "source": [
        "# =============================================================================\n",
        "# Measuring the volatility of a buy and hold strategy\n",
        "# Author : Mayank Rasu (http://rasuquant.com/wp/)\n",
        "\n",
        "# Please report bug/issues in the Q&A section\n",
        "# =============================================================================\n",
        "\n",
        "# Import necesary libraries\n",
        "import yfinance as yf\n",
        "import pandas as pd\n",
        "import numpy as np\n",
        "\n",
        "# Download historical data for required stocks\n",
        "tickers = [\"RELIANCE.NS\",\"IRCTC.NS\", \"HDFCBANK.NS\",\"INFY.NS\",\"AMBER.NS\", \"BAJFINANCE.NS\"]\n",
        "ohlcv_data = {}\n",
        "\n",
        "# looping over tickers and storing OHLCV dataframe in dictionary\n",
        "for ticker in tickers:\n",
        "    temp = yf.download(ticker,period='7mo',interval='1d')\n",
        "    temp.dropna(how=\"any\",inplace=True)\n",
        "    ohlcv_data[ticker] = temp\n",
        "    \n",
        "def CAGR(DF):\n",
        "    \"function to calculate the Cumulative Annual Growth Rate of a trading strategy\"\n",
        "    df = DF.copy()\n",
        "    df[\"return\"] = DF[\"Adj Close\"].pct_change()\n",
        "    df[\"cum_return\"] = (1 + df[\"return\"]).cumprod()\n",
        "    n = len(df)/252\n",
        "    CAGR = (df[\"cum_return\"][-1])**(1/n) - 1\n",
        "    return CAGR\n",
        "    \n",
        "def volatility(DF):\n",
        "    \"function to calculate annualized volatility of a trading strategy\"\n",
        "    df = DF.copy()\n",
        "    df[\"return\"] = df[\"Adj Close\"].pct_change()\n",
        "    vol = df[\"return\"].std() * np.sqrt(252)\n",
        "    return vol\n",
        "\n",
        "def sharpe(DF, rf):\n",
        "    \"function to calculate Sharpe Ratio of a trading strategy\"\n",
        "    df = DF.copy()\n",
        "    return (CAGR(df) - rf)/volatility(df)\n",
        "\n",
        "def sortino(DF, rf):\n",
        "    \"function to calculate Sortino Ratio of a trading strategy\"\n",
        "    df = DF.copy()\n",
        "    df[\"return\"] = df[\"Adj Close\"].pct_change()\n",
        "    neg_return = np.where(df[\"return\"]>0,0,df[\"return\"])\n",
        "    neg_vol = pd.Series(neg_return[neg_return!=0]).std() * np.sqrt(252)\n",
        "    return (CAGR(df) - rf)/neg_vol\n",
        "\n",
        "for ticker in ohlcv_data:\n",
        "    print(\"Sharpe of {} = {}\".format(ticker,sharpe(ohlcv_data[ticker],0.06)))\n",
        "    print(\"Sortino of {} = {}\".format(ticker,sortino(ohlcv_data[ticker],0.06)))\n",
        "    \n",
        "    \n",
        "    \n",
        "    "
      ],
      "metadata": {
        "colab": {
          "base_uri": "https://localhost:8080/"
        },
        "id": "196Isc2NvnoP",
        "outputId": "5d74030b-aed1-4c79-ad4e-426406a17d34"
      },
      "execution_count": null,
      "outputs": [
        {
          "output_type": "stream",
          "name": "stdout",
          "text": [
            "[*********************100%***********************]  1 of 1 completed\n",
            "[*********************100%***********************]  1 of 1 completed\n",
            "[*********************100%***********************]  1 of 1 completed\n",
            "[*********************100%***********************]  1 of 1 completed\n",
            "[*********************100%***********************]  1 of 1 completed\n",
            "[*********************100%***********************]  1 of 1 completed\n",
            "Sharpe of RELIANCE.NS = 0.9016842904206193\n",
            "Sortino of RELIANCE.NS = 1.594812924865427\n",
            "Sharpe of IRCTC.NS = 4.826799436146341\n",
            "Sortino of IRCTC.NS = 5.663126702674642\n",
            "Sharpe of HDFCBANK.NS = -0.6606372801235971\n",
            "Sortino of HDFCBANK.NS = -1.0098696506173785\n",
            "Sharpe of INFY.NS = 3.2962060572685976\n",
            "Sortino of INFY.NS = 5.939923575966154\n",
            "Sharpe of AMBER.NS = 0.5993578439042977\n",
            "Sortino of AMBER.NS = 1.038522929370713\n",
            "Sharpe of BAJFINANCE.NS = 0.8680907586643682\n",
            "Sortino of BAJFINANCE.NS = 1.2434687170893277\n"
          ]
        }
      ]
    }
  ]
}