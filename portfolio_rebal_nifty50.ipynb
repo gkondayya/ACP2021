{
  "nbformat": 4,
  "nbformat_minor": 0,
  "metadata": {
    "colab": {
      "name": "portfolio_rebal_nifty50.ipynb",
      "provenance": [],
      "collapsed_sections": [],
      "authorship_tag": "ABX9TyOsmVdpvPy6Spr4WMYSw/YW",
      "include_colab_link": true
    },
    "kernelspec": {
      "name": "python3",
      "display_name": "Python 3"
    },
    "language_info": {
      "name": "python"
    }
  },
  "cells": [
    {
      "cell_type": "markdown",
      "metadata": {
        "id": "view-in-github",
        "colab_type": "text"
      },
      "source": [
        "<a href=\"https://colab.research.google.com/github/gkondayya/ACP2021/blob/main/portfolio_rebal_nifty50.ipynb\" target=\"_parent\"><img src=\"https://colab.research.google.com/assets/colab-badge.svg\" alt=\"Open In Colab\"/></a>"
      ]
    },
    {
      "cell_type": "code",
      "execution_count": 1,
      "metadata": {
        "colab": {
          "base_uri": "https://localhost:8080/"
        },
        "id": "vT_ISrN8DcXD",
        "outputId": "06e96c9d-5076-4bfc-ebd8-9f2994e8f2f0"
      },
      "outputs": [
        {
          "output_type": "stream",
          "name": "stdout",
          "text": [
            "Collecting yfinance\n",
            "  Downloading yfinance-0.1.67-py2.py3-none-any.whl (25 kB)\n",
            "Collecting lxml>=4.5.1\n",
            "  Downloading lxml-4.7.1-cp37-cp37m-manylinux_2_17_x86_64.manylinux2014_x86_64.manylinux_2_24_x86_64.whl (6.4 MB)\n",
            "\u001b[K     |████████████████████████████████| 6.4 MB 5.9 MB/s \n",
            "\u001b[?25hRequirement already satisfied: requests>=2.20 in /usr/local/lib/python3.7/dist-packages (from yfinance) (2.23.0)\n",
            "Requirement already satisfied: numpy>=1.15 in /usr/local/lib/python3.7/dist-packages (from yfinance) (1.19.5)\n",
            "Requirement already satisfied: multitasking>=0.0.7 in /usr/local/lib/python3.7/dist-packages (from yfinance) (0.0.10)\n",
            "Requirement already satisfied: pandas>=0.24 in /usr/local/lib/python3.7/dist-packages (from yfinance) (1.1.5)\n",
            "Requirement already satisfied: pytz>=2017.2 in /usr/local/lib/python3.7/dist-packages (from pandas>=0.24->yfinance) (2018.9)\n",
            "Requirement already satisfied: python-dateutil>=2.7.3 in /usr/local/lib/python3.7/dist-packages (from pandas>=0.24->yfinance) (2.8.2)\n",
            "Requirement already satisfied: six>=1.5 in /usr/local/lib/python3.7/dist-packages (from python-dateutil>=2.7.3->pandas>=0.24->yfinance) (1.15.0)\n",
            "Requirement already satisfied: urllib3!=1.25.0,!=1.25.1,<1.26,>=1.21.1 in /usr/local/lib/python3.7/dist-packages (from requests>=2.20->yfinance) (1.24.3)\n",
            "Requirement already satisfied: idna<3,>=2.5 in /usr/local/lib/python3.7/dist-packages (from requests>=2.20->yfinance) (2.10)\n",
            "Requirement already satisfied: certifi>=2017.4.17 in /usr/local/lib/python3.7/dist-packages (from requests>=2.20->yfinance) (2021.10.8)\n",
            "Requirement already satisfied: chardet<4,>=3.0.2 in /usr/local/lib/python3.7/dist-packages (from requests>=2.20->yfinance) (3.0.4)\n",
            "Installing collected packages: lxml, yfinance\n",
            "  Attempting uninstall: lxml\n",
            "    Found existing installation: lxml 4.2.6\n",
            "    Uninstalling lxml-4.2.6:\n",
            "      Successfully uninstalled lxml-4.2.6\n",
            "Successfully installed lxml-4.7.1 yfinance-0.1.67\n"
          ]
        }
      ],
      "source": [
        "pip install yfinance"
      ]
    },
    {
      "cell_type": "code",
      "source": [
        "import numpy as np\n",
        "import pandas as pd\n",
        "import yfinance as yf\n",
        "import datetime as dt\n",
        "import copy\n",
        "import matplotlib.pyplot as plt"
      ],
      "metadata": {
        "id": "-fmz_wFnDmhP"
      },
      "execution_count": 2,
      "outputs": []
    },
    {
      "cell_type": "code",
      "source": [
        "def CAGR(DF):\n",
        "    \"function to calculate the Cumulative Annual Growth Rate of a trading strategy\"\n",
        "    df = DF.copy()\n",
        "    df[\"cum_return\"] = (1 + df[\"mon_ret\"]).cumprod()\n",
        "    n = len(df)/12 # n = no. of years, so for daily data replace 12 with 252 (12 is used for now for monthly data)  \n",
        "    CAGR = (df[\"cum_return\"].tolist()[-1])**(1/n) - 1\n",
        "    return CAGR\n",
        "\n",
        "def volatility(DF):\n",
        "    \"function to calculate annualized volatility of a trading strategy\"\n",
        "    df = DF.copy()\n",
        "    vol = df[\"mon_ret\"].std() * np.sqrt(12)\n",
        "    return vol\n",
        "\n",
        "def sharpe(DF,rf):\n",
        "    \"function to calculate sharpe ratio ; rf is the risk free rate\"\n",
        "    df = DF.copy()\n",
        "    sr = (CAGR(df) - rf)/volatility(df)\n",
        "    return sr\n",
        "    \n",
        "\n",
        "def max_dd(DF):\n",
        "    \"function to calculate max drawdown\"\n",
        "    df = DF.copy()\n",
        "    df[\"cum_return\"] = (1 + df[\"mon_ret\"]).cumprod()\n",
        "    df[\"cum_roll_max\"] = df[\"cum_return\"].cummax()\n",
        "    df[\"drawdown\"] = df[\"cum_roll_max\"] - df[\"cum_return\"]\n",
        "    df[\"drawdown_pct\"] = df[\"drawdown\"]/df[\"cum_roll_max\"]\n",
        "    max_dd = df[\"drawdown_pct\"].max()\n",
        "    return max_dd"
      ],
      "metadata": {
        "id": "PvfoDHUaD8D7"
      },
      "execution_count": 3,
      "outputs": []
    },
    {
      "cell_type": "code",
      "source": [
        "import bs4 as bs\n",
        "import pickle\n",
        "import requests\n",
        "def save_nifty50_tickers():\n",
        "    resp=requests.get('https://en.wikipedia.org/wiki/NIFTY_50')\n",
        "    soup=bs.BeautifulSoup(resp.text,\"lxml\")\n",
        "    table=soup.find('table', {'class':'wikitable sortable'})\n",
        "    tickers=[]\n",
        "    for row in table.findAll('tr')[1:]:\n",
        "        ticker= row.findAll('td')[1].text\n",
        "        tickers.append(ticker)\n",
        "    with open(\"nifty50.pickle\",\"wb\") as f:\n",
        "        pickle.dump(tickers,f)\n",
        "   # print (tickers)\n",
        "    return tickers\n",
        "nifty50 = save_nifty50_tickers()\n",
        "ext = \".NS\" \n",
        "tickers = [t + ext for t in nifty50 ]\n",
        "tickers"
      ],
      "metadata": {
        "id": "Bq0JaGmdFkkk"
      },
      "execution_count": null,
      "outputs": []
    },
    {
      "cell_type": "code",
      "source": [
        "#tickers = [\"AFFLE.NS\", \"AMBER.NS\", \"ASIANPAINT.NS\", \"BAJAJHIND.NS\", \"BAJFINANCE.NS\", \"BALKRISIND.NS\", \"BSE.NS\", \"CLEAN.NS\", \"CUPID.NS\" , \\\n",
        "#\"DIXON.NS\", \"DMART.NS\", \"EQUITAS.NS\", \"HDFC.NS\", \"HDFCBANK.NS\", \"ICICIBANK.NS\", \"IDFC.NS\", \"IEX.NS\", \"INFY.NS\", \"INOXLEISUR.NS\" , \\\n",
        "#\"IRCTC.NS\", \"ISGEC.NS\", \"JPPOWER.NS\", \"JUBLFOOD.NS\", \"LIKHITHA.NS\", \"LT.NS\", \"MOLDTKPAC.NS\",\"MOTHERSUMI.NS\", \"NELCO.NS\", \\\n",
        "#\"PIIND.NS\", \"POLYCAB.NS\", \"PRAJIND.NS\", \"PRECWIRE.NS\", \"PVR.NS\", \"RELIANCE.NS\", \"SBIN.NS\", \"TATACHEM.NS\", \"TATAMOTORS.NS\", \\\n",
        "#\"TCS.NS\", \"TECHM.NS\", \"YESBANK.NS\", \"ZENSARTECH.NS\"]\n"
      ],
      "metadata": {
        "id": "3cMPpqDnD-W2"
      },
      "execution_count": 4,
      "outputs": []
    },
    {
      "cell_type": "code",
      "source": [
        "ohlc_mon = {} # directory with ohlc value for each stock            \n",
        "start = dt.datetime.today()-dt.timedelta(365)\n",
        "end = dt.datetime.today()\n"
      ],
      "metadata": {
        "id": "YUPsQC6OET__"
      },
      "execution_count": 17,
      "outputs": []
    },
    {
      "cell_type": "code",
      "source": [
        "# looping over tickers and creating a dataframe with close prices\n",
        "for ticker in tickers:\n",
        "    ohlc_mon[ticker] = yf.download(ticker,start,end,interval='1mo')\n",
        "    ohlc_mon[ticker].dropna(inplace=True,how=\"all\")\n",
        " \n",
        "tickers = ohlc_mon.keys() # redefine tickers variable after removing any tickers with corrupted data"
      ],
      "metadata": {
        "colab": {
          "base_uri": "https://localhost:8080/"
        },
        "id": "mgLlez_iEVGw",
        "outputId": "41b0f9db-0018-4de4-e457-38a12c9a96b0"
      },
      "execution_count": 18,
      "outputs": [
        {
          "output_type": "stream",
          "name": "stdout",
          "text": [
            "[*********************100%***********************]  1 of 1 completed\n",
            "[*********************100%***********************]  1 of 1 completed\n",
            "[*********************100%***********************]  1 of 1 completed\n",
            "[*********************100%***********************]  1 of 1 completed\n",
            "[*********************100%***********************]  1 of 1 completed\n",
            "[*********************100%***********************]  1 of 1 completed\n",
            "[*********************100%***********************]  1 of 1 completed\n",
            "[*********************100%***********************]  1 of 1 completed\n",
            "[*********************100%***********************]  1 of 1 completed\n",
            "[*********************100%***********************]  1 of 1 completed\n",
            "[*********************100%***********************]  1 of 1 completed\n",
            "[*********************100%***********************]  1 of 1 completed\n",
            "[*********************100%***********************]  1 of 1 completed\n",
            "[*********************100%***********************]  1 of 1 completed\n",
            "[*********************100%***********************]  1 of 1 completed\n",
            "[*********************100%***********************]  1 of 1 completed\n",
            "[*********************100%***********************]  1 of 1 completed\n",
            "[*********************100%***********************]  1 of 1 completed\n",
            "[*********************100%***********************]  1 of 1 completed\n",
            "[*********************100%***********************]  1 of 1 completed\n",
            "[*********************100%***********************]  1 of 1 completed\n",
            "[*********************100%***********************]  1 of 1 completed\n",
            "[*********************100%***********************]  1 of 1 completed\n",
            "[*********************100%***********************]  1 of 1 completed\n",
            "[*********************100%***********************]  1 of 1 completed\n",
            "[*********************100%***********************]  1 of 1 completed\n",
            "[*********************100%***********************]  1 of 1 completed\n",
            "[*********************100%***********************]  1 of 1 completed\n",
            "[*********************100%***********************]  1 of 1 completed\n",
            "[*********************100%***********************]  1 of 1 completed\n",
            "[*********************100%***********************]  1 of 1 completed\n",
            "[*********************100%***********************]  1 of 1 completed\n",
            "[*********************100%***********************]  1 of 1 completed\n",
            "[*********************100%***********************]  1 of 1 completed\n",
            "[*********************100%***********************]  1 of 1 completed\n",
            "[*********************100%***********************]  1 of 1 completed\n",
            "[*********************100%***********************]  1 of 1 completed\n",
            "[*********************100%***********************]  1 of 1 completed\n",
            "[*********************100%***********************]  1 of 1 completed\n",
            "[*********************100%***********************]  1 of 1 completed\n",
            "[*********************100%***********************]  1 of 1 completed\n",
            "[*********************100%***********************]  1 of 1 completed\n",
            "[*********************100%***********************]  1 of 1 completed\n",
            "[*********************100%***********************]  1 of 1 completed\n",
            "[*********************100%***********************]  1 of 1 completed\n",
            "[*********************100%***********************]  1 of 1 completed\n",
            "[*********************100%***********************]  1 of 1 completed\n",
            "[*********************100%***********************]  1 of 1 completed\n",
            "[*********************100%***********************]  1 of 1 completed\n",
            "[*********************100%***********************]  1 of 1 completed\n"
          ]
        }
      ]
    },
    {
      "cell_type": "code",
      "source": [
        "# calculating monthly return for each stock and consolidating return info by stock in a separate dataframe\n",
        "ohlc_dict = copy.deepcopy(ohlc_mon)\n",
        "return_df = pd.DataFrame()\n",
        "for ticker in tickers:\n",
        "    print(\"calculating monthly return for \",ticker)\n",
        "    ohlc_dict[ticker][\"mon_ret\"] = ohlc_dict[ticker][\"Adj Close\"].pct_change()\n",
        "    return_df[ticker] = ohlc_dict[ticker][\"mon_ret\"]\n",
        "return_df.fillna(method='backfill',inplace=True)\n",
        "\n",
        "#return_df.tail()\n"
      ],
      "metadata": {
        "colab": {
          "base_uri": "https://localhost:8080/"
        },
        "id": "zsRsjl72EfJ7",
        "outputId": "a8865bd7-1f7c-4549-b9cd-7fde08f50513"
      },
      "execution_count": 19,
      "outputs": [
        {
          "output_type": "stream",
          "name": "stdout",
          "text": [
            "calculating monthly return for  ADANIPORTS.NS\n",
            "calculating monthly return for  ASIANPAINT.NS\n",
            "calculating monthly return for  AXISBANK.NS\n",
            "calculating monthly return for  BAJAJ-AUTO.NS\n",
            "calculating monthly return for  BAJFINANCE.NS\n",
            "calculating monthly return for  BAJAJFINSV.NS\n",
            "calculating monthly return for  BHARTIARTL.NS\n",
            "calculating monthly return for  BPCL.NS\n",
            "calculating monthly return for  BRITANNIA.NS\n",
            "calculating monthly return for  CIPLA.NS\n",
            "calculating monthly return for  COALINDIA.NS\n",
            "calculating monthly return for  DIVISLAB.NS\n",
            "calculating monthly return for  DRREDDY.NS\n",
            "calculating monthly return for  EICHERMOT.NS\n",
            "calculating monthly return for  GRASIM.NS\n",
            "calculating monthly return for  HCLTECH.NS\n",
            "calculating monthly return for  HDFC.NS\n",
            "calculating monthly return for  HDFCBANK.NS\n",
            "calculating monthly return for  HDFCLIFE.NS\n",
            "calculating monthly return for  HEROMOTOCO.NS\n",
            "calculating monthly return for  HINDALCO.NS\n",
            "calculating monthly return for  HINDUNILVR.NS\n",
            "calculating monthly return for  ICICIBANK.NS\n",
            "calculating monthly return for  INDUSINDBK.NS\n",
            "calculating monthly return for  INFY.NS\n",
            "calculating monthly return for  IOC.NS\n",
            "calculating monthly return for  ITC.NS\n",
            "calculating monthly return for  JSWSTEEL.NS\n",
            "calculating monthly return for  KOTAKBANK.NS\n",
            "calculating monthly return for  LT.NS\n",
            "calculating monthly return for  M&M.NS\n",
            "calculating monthly return for  MARUTI.NS\n",
            "calculating monthly return for  NESTLEIND.NS\n",
            "calculating monthly return for  NTPC.NS\n",
            "calculating monthly return for  ONGC.NS\n",
            "calculating monthly return for  POWERGRID.NS\n",
            "calculating monthly return for  RELIANCE.NS\n",
            "calculating monthly return for  SBIN.NS\n",
            "calculating monthly return for  SBILIFE.NS\n",
            "calculating monthly return for  SHREECEM.NS\n",
            "calculating monthly return for  SUNPHARMA.NS\n",
            "calculating monthly return for  TATAMOTORS.NS\n",
            "calculating monthly return for  TATASTEEL.NS\n",
            "calculating monthly return for  TCS.NS\n",
            "calculating monthly return for  TATACONSUM.NS\n",
            "calculating monthly return for  TECHM.NS\n",
            "calculating monthly return for  TITAN.NS\n",
            "calculating monthly return for  ULTRACEMCO.NS\n",
            "calculating monthly return for  UPL.NS\n",
            "calculating monthly return for  WIPRO.NS\n"
          ]
        }
      ]
    },
    {
      "cell_type": "code",
      "source": [
        "# function to calculate portfolio return iteratively\n",
        "def pflio(DF,m,x):\n",
        "    \"\"\"Returns cumulative portfolio return\n",
        "    DF = dataframe with monthly return info for all stocks\n",
        "    m = number of stock in the portfolio\n",
        "    x = number of underperforming stocks to be removed from portfolio monthly\"\"\"\n",
        "    df = DF.copy()\n",
        "    portfolio = []\n",
        "    monthly_ret = [0]\n",
        "    for i in range(len(df)):\n",
        "        if len(portfolio) > 0:\n",
        "            monthly_ret.append(df[portfolio].iloc[i,:].mean())\n",
        "            bad_stocks = df[portfolio].iloc[i,:].sort_values(ascending=True)[:x].index.values.tolist()\n",
        "            portfolio = [t for t in portfolio if t not in bad_stocks]\n",
        "        fill = m - len(portfolio)\n",
        "        new_picks = df.iloc[i,:].sort_values(ascending=False)[:fill].index.values.tolist()\n",
        "        portfolio = portfolio + new_picks\n",
        "        print(portfolio)\n",
        "    monthly_ret_df = pd.DataFrame(np.array(monthly_ret),columns=[\"mon_ret\"])\n",
        "    return monthly_ret_df\n"
      ],
      "metadata": {
        "id": "GPv9XJc1E2nb"
      },
      "execution_count": 20,
      "outputs": []
    },
    {
      "cell_type": "code",
      "source": [
        "#pflio(return_df,42,20)\n",
        "\n",
        "#calculating overall strategy's KPIs\n",
        "CAGR(pflio(return_df,10,5))\n",
        "#sharpe(pflio(return_df,6,3),0.025)\n",
        "#max_dd(pflio(return_df,6,3)) "
      ],
      "metadata": {
        "colab": {
          "base_uri": "https://localhost:8080/"
        },
        "id": "fdxaOXStE77F",
        "outputId": "8628ceb1-cbb3-423e-b68b-94fd616a4e7b"
      },
      "execution_count": 21,
      "outputs": [
        {
          "output_type": "stream",
          "name": "stdout",
          "text": [
            "['HINDALCO.NS', 'SBIN.NS', 'ADANIPORTS.NS', 'ONGC.NS', 'INDUSINDBK.NS', 'TATAMOTORS.NS', 'COALINDIA.NS', 'NTPC.NS', 'TATASTEEL.NS', 'BPCL.NS']\n",
            "['HINDALCO.NS', 'SBIN.NS', 'ADANIPORTS.NS', 'ONGC.NS', 'INDUSINDBK.NS', 'HINDALCO.NS', 'SBIN.NS', 'ADANIPORTS.NS', 'ONGC.NS', 'INDUSINDBK.NS']\n",
            "['HINDALCO.NS', 'ADANIPORTS.NS', 'HINDALCO.NS', 'ADANIPORTS.NS', 'GRASIM.NS', 'JSWSTEEL.NS', 'UPL.NS', 'HINDUNILVR.NS', 'TATASTEEL.NS', 'ASIANPAINT.NS']\n",
            "['HINDALCO.NS', 'HINDALCO.NS', 'JSWSTEEL.NS', 'TATASTEEL.NS', 'JSWSTEEL.NS', 'TATASTEEL.NS', 'WIPRO.NS', 'DRREDDY.NS', 'BAJAJFINSV.NS', 'DIVISLAB.NS']\n",
            "['HINDALCO.NS', 'HINDALCO.NS', 'TATASTEEL.NS', 'TATASTEEL.NS', 'WIPRO.NS', 'UPL.NS', 'IOC.NS', 'SBIN.NS', 'ASIANPAINT.NS', 'BPCL.NS']\n",
            "['TATASTEEL.NS', 'TATASTEEL.NS', 'WIPRO.NS', 'ASIANPAINT.NS', 'BPCL.NS', 'INFY.NS', 'TATACONSUM.NS', 'TITAN.NS', 'TECHM.NS', 'BAJFINANCE.NS']\n",
            "['TATASTEEL.NS', 'TATASTEEL.NS', 'WIPRO.NS', 'TECHM.NS', 'BAJFINANCE.NS', 'TATASTEEL.NS', 'HINDALCO.NS', 'BAJAJFINSV.NS', 'SUNPHARMA.NS', 'ULTRACEMCO.NS']\n",
            "['WIPRO.NS', 'TECHM.NS', 'BAJFINANCE.NS', 'HINDALCO.NS', 'BAJAJFINSV.NS', 'TECHM.NS', 'BAJFINANCE.NS', 'BAJAJFINSV.NS', 'TCS.NS', 'BHARTIARTL.NS']\n",
            "['HINDALCO.NS', 'BAJAJFINSV.NS', 'BAJAJFINSV.NS', 'BHARTIARTL.NS', 'COALINDIA.NS', 'NTPC.NS', 'ONGC.NS', 'TATAMOTORS.NS', 'IOC.NS', 'KOTAKBANK.NS']\n",
            "['ONGC.NS', 'TATAMOTORS.NS', 'IOC.NS', 'KOTAKBANK.NS', 'TATAMOTORS.NS', 'ICICIBANK.NS', 'SBIN.NS', 'TITAN.NS', 'M&M.NS', 'DIVISLAB.NS']\n",
            "['ONGC.NS', 'TATAMOTORS.NS', 'KOTAKBANK.NS', 'TATAMOTORS.NS', 'TITAN.NS', 'POWERGRID.NS', 'CIPLA.NS', 'BHARTIARTL.NS', 'TECHM.NS', 'TCS.NS']\n",
            "['ONGC.NS', 'TATAMOTORS.NS', 'TATAMOTORS.NS', 'TECHM.NS', 'TCS.NS', 'HINDALCO.NS', 'UPL.NS', 'TECHM.NS', 'JSWSTEEL.NS', 'WIPRO.NS']\n",
            "['ONGC.NS', 'TECHM.NS', 'TCS.NS', 'TECHM.NS', 'WIPRO.NS', 'COALINDIA.NS', 'POWERGRID.NS', 'ITC.NS', 'BAJFINANCE.NS', 'IOC.NS']\n"
          ]
        },
        {
          "output_type": "execute_result",
          "data": {
            "text/plain": [
              "0.5378982244693316"
            ]
          },
          "metadata": {},
          "execution_count": 21
        }
      ]
    },
    {
      "cell_type": "code",
      "source": [
        "#calculating KPIs for Index buy and hold strategy over the same period\n",
        "Nifty50 = yf.download(\"^NSEI\",dt.date.today()-dt.timedelta(365),dt.date.today(),interval='1mo')\n",
        "Nifty50[\"mon_ret\"] = Nifty50[\"Adj Close\"].pct_change().fillna(0)\n",
        "CAGR(Nifty50)\n",
        "sharpe(Nifty50,0.025)\n",
        "max_dd(Nifty50)\n",
        "\n",
        "#visualization\n",
        "fig, ax = plt.subplots()\n",
        "plt.plot((1+pflio(return_df,5,4)).cumprod())\n",
        "plt.plot((1+Nifty50[\"mon_ret\"].reset_index(drop=True)).cumprod())\n",
        "plt.title(\"Index Return vs Strategy Return\")\n",
        "plt.ylabel(\"cumulative return\")\n",
        "plt.xlabel(\"months\")\n",
        "ax.legend([\"Strategy Return\",\"Index Return\"])"
      ],
      "metadata": {
        "colab": {
          "base_uri": "https://localhost:8080/",
          "height": 556
        },
        "id": "lhv6xxKoFA2F",
        "outputId": "ebf66eac-fdaa-4f40-bd55-97ecc4df37cd"
      },
      "execution_count": 25,
      "outputs": [
        {
          "output_type": "stream",
          "name": "stdout",
          "text": [
            "\r[*********************100%***********************]  1 of 1 completed\n",
            "['HINDALCO.NS', 'SBIN.NS', 'ADANIPORTS.NS', 'ONGC.NS', 'INDUSINDBK.NS']\n",
            "['HINDALCO.NS', 'HINDALCO.NS', 'SBIN.NS', 'ADANIPORTS.NS', 'ONGC.NS']\n",
            "['ADANIPORTS.NS', 'GRASIM.NS', 'JSWSTEEL.NS', 'UPL.NS', 'HINDUNILVR.NS']\n",
            "['JSWSTEEL.NS', 'JSWSTEEL.NS', 'TATASTEEL.NS', 'WIPRO.NS', 'DRREDDY.NS']\n",
            "['WIPRO.NS', 'UPL.NS', 'IOC.NS', 'SBIN.NS', 'ASIANPAINT.NS']\n",
            "['WIPRO.NS', 'INFY.NS', 'TATACONSUM.NS', 'TITAN.NS', 'TECHM.NS']\n",
            "['TECHM.NS', 'TATASTEEL.NS', 'HINDALCO.NS', 'BAJAJFINSV.NS', 'SUNPHARMA.NS']\n",
            "['TECHM.NS', 'TECHM.NS', 'BAJFINANCE.NS', 'BAJAJFINSV.NS', 'TCS.NS']\n",
            "['BAJAJFINSV.NS', 'COALINDIA.NS', 'NTPC.NS', 'ONGC.NS', 'TATAMOTORS.NS']\n",
            "['TATAMOTORS.NS', 'TATAMOTORS.NS', 'ICICIBANK.NS', 'SBIN.NS', 'TITAN.NS']\n",
            "['TITAN.NS', 'POWERGRID.NS', 'CIPLA.NS', 'BHARTIARTL.NS', 'TECHM.NS']\n",
            "['TECHM.NS', 'HINDALCO.NS', 'UPL.NS', 'TECHM.NS', 'JSWSTEEL.NS']\n",
            "['COALINDIA.NS', 'POWERGRID.NS', 'ITC.NS', 'BAJFINANCE.NS', 'IOC.NS']\n"
          ]
        },
        {
          "output_type": "execute_result",
          "data": {
            "text/plain": [
              "<matplotlib.legend.Legend at 0x7f2b396f8790>"
            ]
          },
          "metadata": {},
          "execution_count": 25
        },
        {
          "output_type": "display_data",
          "data": {
            "image/png": "[encoded data removed]",
            "text/plain": [
              "<Figure size 432x288 with 1 Axes>"
            ]
          },
          "metadata": {
            "needs_background": "light"
          }
        }
      ]
    },
    {
      "cell_type": "code",
      "source": [
        ""
      ],
      "metadata": {
        "id": "cgy4vXcIFMpa"
      },
      "execution_count": 11,
      "outputs": []
    },
    {
      "cell_type": "code",
      "source": [
        ""
      ],
      "metadata": {
        "id": "nbKEf4YsFTb_"
      },
      "execution_count": 12,
      "outputs": []
    },
    {
      "cell_type": "code",
      "source": [
        ""
      ],
      "metadata": {
        "id": "_w5V9KDyFYiS"
      },
      "execution_count": null,
      "outputs": []
    }
  ]
}