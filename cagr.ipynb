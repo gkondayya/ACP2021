{
  "nbformat": 4,
  "nbformat_minor": 0,
  "metadata": {
    "colab": {
      "name": "cagr.ipynb",
      "provenance": [],
      "collapsed_sections": [],
      "authorship_tag": "ABX9TyO/RrJ7KKirEK+DZmnrmVXu",
      "include_colab_link": true
    },
    "kernelspec": {
      "name": "python3",
      "display_name": "Python 3"
    },
    "language_info": {
      "name": "python"
    }
  },
  "cells": [
    {
      "cell_type": "markdown",
      "metadata": {
        "id": "view-in-github",
        "colab_type": "text"
      },
      "source": [
        "<a href=\"https://colab.research.google.com/github/gkondayya/ACP2021/blob/main/cagr.ipynb\" target=\"_parent\"><img src=\"https://colab.research.google.com/assets/colab-badge.svg\" alt=\"Open In Colab\"/></a>"
      ]
    },
    {
      "cell_type": "code",
      "execution_count": null,
      "metadata": {
        "id": "_LLVZfWTWeDV"
      },
      "outputs": [],
      "source": [
        "pip install yfinance"
      ]
    },
    {
      "cell_type": "code",
      "source": [
        "import yfinance as yf\n",
        "import pandas as pd"
      ],
      "metadata": {
        "id": "W8Ybj7UxWiy0"
      },
      "execution_count": 2,
      "outputs": []
    },
    {
      "cell_type": "code",
      "source": [
        "tickers = [\"RELIANCE.NS\",\"IRCTC.NS\", \"HDFCBANK.NS\",\"INFY.NS\",\"AMBER.NS\", \"BAJFINANCE.NS\"]\n",
        "ohlcv_data = {}\n",
        "\n",
        "# looping over tickers and storing OHLCV dataframe in dictionary\n",
        "for ticker in tickers:\n",
        "    temp = yf.download(ticker,period='60mo',interval='1d')\n",
        "    temp.dropna(how=\"any\",inplace=True)\n",
        "    ohlcv_data[ticker] = temp\n",
        "\n",
        "def CAGR(DF):\n",
        "    \"function to calculate the Cumulative Annual Growth Rate of a trading strategy\"\n",
        "    df = DF.copy()\n",
        "    df[\"return\"] = DF[\"Adj Close\"].pct_change()\n",
        "    df[\"cum_return\"] = (1 + df[\"return\"]).cumprod()\n",
        "    n = len(df)/252\n",
        "    CAGR = (df[\"cum_return\"][-1])**(1/n) - 1\n",
        "    return CAGR\n",
        "\n",
        "for ticker in ohlcv_data:\n",
        "    print(\"CAGR of {} = {}\".format(ticker,CAGR(ohlcv_data[ticker])))"
      ],
      "metadata": {
        "colab": {
          "base_uri": "https://localhost:8080/"
        },
        "id": "MfwuVtpBWm35",
        "outputId": "3ee93494-a2e7-4108-c539-b1cadccd56a2"
      },
      "execution_count": 5,
      "outputs": [
        {
          "output_type": "stream",
          "name": "stdout",
          "text": [
            "[*********************100%***********************]  1 of 1 completed\n",
            "[*********************100%***********************]  1 of 1 completed\n",
            "[*********************100%***********************]  1 of 1 completed\n",
            "[*********************100%***********************]  1 of 1 completed\n",
            "[*********************100%***********************]  1 of 1 completed\n",
            "[*********************100%***********************]  1 of 1 completed\n",
            "CAGR of RELIANCE.NS = 0.35924898207808575\n",
            "CAGR of IRCTC.NS = 1.2250530502581358\n",
            "CAGR of HDFCBANK.NS = 0.20614275511528657\n",
            "CAGR of INFY.NS = 0.3356091764289888\n",
            "CAGR of AMBER.NS = 0.3098053928102218\n",
            "CAGR of BAJFINANCE.NS = 0.5445577904054089\n"
          ]
        }
      ]
    }
  ]
}